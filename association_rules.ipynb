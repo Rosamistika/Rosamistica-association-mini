{
 "cells": [
  {
   "cell_type": "code",
   "execution_count": 2,
   "id": "15a15930",
   "metadata": {},
   "outputs": [
    {
     "name": "stdout",
     "output_type": "stream",
     "text": [
      "Transaction 1: ['Milk', 'Bread']\n",
      "Transaction 2: ['Eggs', 'Apples', 'Bread']\n",
      "Transaction 3: ['Juice', 'Milk', 'Apples', 'Bread']\n",
      "Transaction 4: ['Apples', 'Juice', 'Cheese']\n",
      "Transaction 5: ['Apples', 'Eggs', 'Milk']\n",
      "Transaction 6: ['Yogurt', 'Milk', 'Bread', 'Juice', 'Bananas']\n",
      "Transaction 7: ['Cheese', 'Apples']\n",
      "Transaction 8: ['Juice', 'Bread', 'Yogurt', 'Apples']\n",
      "Transaction 9: ['Juice', 'Cheese', 'Bread']\n",
      "Transaction 10: ['Bread', 'Juice', 'Eggs', 'Apples', 'Milk']\n"
     ]
    }
   ],
   "source": [
    "import pandas as pd\n",
    "import random\n",
    "\n",
    "# List of possible items\n",
    "items = ['Bread', 'Milk', 'Eggs', 'Cheese', 'Juice', 'Apples', 'Bananas', 'Yogurt']\n",
    "\n",
    "# Simulate 10 transactions\n",
    "transactions = []\n",
    "for _ in range(10):\n",
    "    num_items = random.randint(2, 5)\n",
    "    transaction = random.sample(items, num_items)\n",
    "    transactions.append(transaction)\n",
    "\n",
    "# Preview\n",
    "for i, t in enumerate(transactions, 1):\n",
    "    print(f\"Transaction {i}: {t}\")\n",
    "\n",
    "\n"
   ]
  },
  {
   "cell_type": "code",
   "execution_count": 3,
   "id": "90e6d51a",
   "metadata": {},
   "outputs": [
    {
     "name": "stdout",
     "output_type": "stream",
     "text": [
      "\n",
      "DataFrame created and saved to 'transactions.csv':\n",
      "   Item_1  Item_2  Item_3  Item_4   Item_5\n",
      "0    Milk   Bread    None    None     None\n",
      "1    Eggs  Apples   Bread    None     None\n",
      "2   Juice    Milk  Apples   Bread     None\n",
      "3  Apples   Juice  Cheese    None     None\n",
      "4  Apples    Eggs    Milk    None     None\n",
      "5  Yogurt    Milk   Bread   Juice  Bananas\n",
      "6  Cheese  Apples    None    None     None\n",
      "7   Juice   Bread  Yogurt  Apples     None\n",
      "8   Juice  Cheese   Bread    None     None\n",
      "9   Bread   Juice    Eggs  Apples     Milk\n"
     ]
    }
   ],
   "source": [
    "df = pd.DataFrame(transactions, columns=[f'Item_{i+1}' for i in range(max(len(t) for t in transactions))])\n",
    "# Save the DataFrame to a CSV file\n",
    "df.to_csv('transactions.csv', index=False)\n",
    "print(\"\\nDataFrame created and saved to 'transactions.csv':\")\n",
    "print(df)"
   ]
  },
  {
   "cell_type": "code",
   "execution_count": null,
   "id": "2c04b746",
   "metadata": {},
   "outputs": [
    {
     "ename": "ModuleNotFoundError",
     "evalue": "No module named 'mlxtend'",
     "output_type": "error",
     "traceback": [
      "\u001b[31m---------------------------------------------------------------------------\u001b[39m",
      "\u001b[31mModuleNotFoundError\u001b[39m                       Traceback (most recent call last)",
      "\u001b[36mCell\u001b[39m\u001b[36m \u001b[39m\u001b[32mIn[5]\u001b[39m\u001b[32m, line 1\u001b[39m\n\u001b[32m----> \u001b[39m\u001b[32m1\u001b[39m \u001b[38;5;28;01mfrom\u001b[39;00m\u001b[38;5;250m \u001b[39m\u001b[34;01mmlxtend\u001b[39;00m\u001b[34;01m.\u001b[39;00m\u001b[34;01mpreprocessing\u001b[39;00m\u001b[38;5;250m \u001b[39m\u001b[38;5;28;01mimport\u001b[39;00m TransactionEncoder\n\u001b[32m      2\u001b[39m \u001b[38;5;28;01mfrom\u001b[39;00m\u001b[38;5;250m \u001b[39m\u001b[34;01mmlxtend\u001b[39;00m\u001b[34;01m.\u001b[39;00m\u001b[34;01mfrequent_patterns\u001b[39;00m\u001b[38;5;250m \u001b[39m\u001b[38;5;28;01mimport\u001b[39;00m apriori\n\u001b[32m      4\u001b[39m \u001b[38;5;66;03m# One-hot encode the transactions\u001b[39;00m\n",
      "\u001b[31mModuleNotFoundError\u001b[39m: No module named 'mlxtend'"
     ]
    }
   ],
   "source": [
    "\n",
    "from mlxtend.preprocessing import TransactionEncoder\n",
    "from mlxtend.frequent_patterns import apriori\n",
    "\n",
    "# One-hot encode the transactions\n",
    "te = TransactionEncoder()\n",
    "te_ary = te.fit(transactions).transform(transactions)\n",
    "df = pd.DataFrame(te_ary, columns=te.columns_)\n",
    "\n",
    "# Apply Apriori\n",
    "frequent_itemsets = apriori(df, min_support=0.3, use_colnames=True)\n",
    "print(frequent_itemsets)\n"
   ]
  },
  {
   "cell_type": "code",
   "execution_count": null,
   "id": "13315a5c",
   "metadata": {},
   "outputs": [],
   "source": []
  }
 ],
 "metadata": {
  "kernelspec": {
   "display_name": "Python 3",
   "language": "python",
   "name": "python3"
  },
  "language_info": {
   "codemirror_mode": {
    "name": "ipython",
    "version": 3
   },
   "file_extension": ".py",
   "mimetype": "text/x-python",
   "name": "python",
   "nbconvert_exporter": "python",
   "pygments_lexer": "ipython3",
   "version": "3.13.5"
  }
 },
 "nbformat": 4,
 "nbformat_minor": 5
}
